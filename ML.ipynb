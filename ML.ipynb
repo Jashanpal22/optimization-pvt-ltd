{
 "cells": [
  {
   "cell_type": "code",
   "execution_count": 2,
   "id": "d14fcd21",
   "metadata": {},
   "outputs": [],
   "source": [
    "import pandas  as pd\n"
   ]
  },
  {
   "cell_type": "code",
   "execution_count": null,
   "id": "e751428a",
   "metadata": {
    "scrolled": true
   },
   "outputs": [],
   "source": [
    "from sklearn.model_selection import train_test_split\n",
    "from sklearn.feature_extraction.text import TfidfVectorizer\n",
    "from sklearn.naive_bayes import MultinomialNB\n",
    "from sklearn.metrics import accuracy_score, classification_report\n",
    "from sklearn.preprocessing import LabelEncoder\n",
    "from keras.preprocessing.text import Tokenizer\n",
    "fnltk.download('maxent_ne_chunker')\n",
    "nltk.download('words')\n",
    "nltk.download('vader_lexicon')\n",
    "from keras.preprocessing.sequence import pad_sequences\n",
    "from keras.models import Sequential\n",
    "from keras.layers import Dense, Embedding, LSTM\n",
    "import re\n",
    "from nltk.corpus import stopwords\n",
    "from nltk.tokenize import word_tokenize\n",
    "from sklearn.linear_model import LogisticRegression\n",
    "from sklearn.svm import SVC\n",
    "from sklearn import datasets\n",
    "import pandas as pd\n",
    "import tensorflow as tf\n",
    "from tensorflow.keras.layers import Conv1D, GlobalMaxPooling1D, Dropout\n",
    "import pickle"
   ]
  },
  {
   "cell_type": "code",
   "execution_count": null,
   "id": "0f129eed",
   "metadata": {},
   "outputs": [],
   "source": [
    "import pandas as pd\n",
    "\n",
    "# Replace the file path with the correct one\n",
    "file_path = r\"C:\\Users\\Lenovo\\Desktop\\jashanpaji.xls\"\n",
    "\n",
    "# Read the CSV file with comma as delimiter\n",
    "df = pd.read_excel(file_path)\n",
    "df"
   ]
  },
  {
   "cell_type": "code",
   "execution_count": null,
   "id": "9cb920f5",
   "metadata": {},
   "outputs": [],
   "source": []
  },
  {
   "cell_type": "code",
   "execution_count": null,
   "id": "2e833e06",
   "metadata": {
    "scrolled": true
   },
   "outputs": [],
   "source": [
    "df.sort_values(\"Review Rating\",ascending=False)"
   ]
  },
  {
   "cell_type": "code",
   "execution_count": null,
   "id": "1ec5fd96",
   "metadata": {},
   "outputs": [],
   "source": [
    "df.columns"
   ]
  },
  {
   "cell_type": "code",
   "execution_count": null,
   "id": "09e18eab",
   "metadata": {
    "scrolled": true
   },
   "outputs": [],
   "source": [
    "df[\"Review Rating\"].values[4]"
   ]
  },
  {
   "cell_type": "code",
   "execution_count": null,
   "id": "cd7a3f27",
   "metadata": {},
   "outputs": [],
   "source": [
    "import matplotlib.pyplot as plt"
   ]
  },
  {
   "cell_type": "code",
   "execution_count": null,
   "id": "a5f0d312",
   "metadata": {},
   "outputs": [],
   "source": [
    "plt.style.use(\"ggplot\")"
   ]
  },
  {
   "cell_type": "code",
   "execution_count": null,
   "id": "45b21140",
   "metadata": {},
   "outputs": [],
   "source": [
    "print(df.shape)"
   ]
  },
  {
   "cell_type": "code",
   "execution_count": null,
   "id": "eeea5561",
   "metadata": {},
   "outputs": [],
   "source": [
    "df['Review Rating'].value_counts().sort_index().plot(kind=\"bar\",title=\"Count of reviews by star\",figsize=(10,5))"
   ]
  },
  {
   "cell_type": "code",
   "execution_count": null,
   "id": "06048f28",
   "metadata": {},
   "outputs": [],
   "source": [
    "example=df['Review Title'][40]\n",
    "example"
   ]
  },
  {
   "cell_type": "code",
   "execution_count": null,
   "id": "592b2715",
   "metadata": {
    "scrolled": true
   },
   "outputs": [],
   "source": [
    "nltk.word_tokenize(example)"
   ]
  },
  {
   "cell_type": "code",
   "execution_count": null,
   "id": "deb2a97a",
   "metadata": {},
   "outputs": [],
   "source": [
    "import nltk"
   ]
  },
  {
   "cell_type": "code",
   "execution_count": null,
   "id": "740be0cc",
   "metadata": {},
   "outputs": [],
   "source": [
    "tokens=nltk.word_tokenize(example)\n",
    "tokens"
   ]
  },
  {
   "cell_type": "code",
   "execution_count": null,
   "id": "40365774",
   "metadata": {},
   "outputs": [],
   "source": [
    "tokens[:5]"
   ]
  },
  {
   "cell_type": "code",
   "execution_count": null,
   "id": "0f7412cf",
   "metadata": {},
   "outputs": [],
   "source": [
    " nltk.download('averaged_perceptron_tagger')"
   ]
  },
  {
   "cell_type": "code",
   "execution_count": null,
   "id": "2aa5d81f",
   "metadata": {
    "scrolled": true
   },
   "outputs": [],
   "source": [
    "tagged=nltk.pos_tag(tokens)\n",
    "tagged"
   ]
  },
  {
   "cell_type": "code",
   "execution_count": null,
   "id": "d3b2890d",
   "metadata": {},
   "outputs": [],
   "source": [
    "nltk.download('maxent_ne_chunker')\n",
    "nltk.download('words')\n",
    "nltk.download('vader_lexicon')"
   ]
  },
  {
   "cell_type": "code",
   "execution_count": null,
   "id": "f7b78a31",
   "metadata": {},
   "outputs": [],
   "source": [
    "ntts=nltk.chunk.ne_chunk(tagged)\n",
    "ntts.pprint()"
   ]
  },
  {
   "cell_type": "code",
   "execution_count": null,
   "id": "f4f12287",
   "metadata": {},
   "outputs": [],
   "source": [
    "from nltk.sentiment import SentimentIntensityAnalyzer"
   ]
  },
  {
   "cell_type": "code",
   "execution_count": null,
   "id": "4e64233e",
   "metadata": {},
   "outputs": [],
   "source": [
    "from tqdm.notebook import tqdm"
   ]
  },
  {
   "cell_type": "code",
   "execution_count": null,
   "id": "42ce68a9",
   "metadata": {},
   "outputs": [],
   "source": [
    "sa=SentimentIntensityAnalyzer()"
   ]
  },
  {
   "cell_type": "code",
   "execution_count": null,
   "id": "4055d307",
   "metadata": {},
   "outputs": [],
   "source": [
    "sa.polarity_scores(\"I am very happy\")"
   ]
  },
  {
   "cell_type": "code",
   "execution_count": null,
   "id": "ea5a2a4e",
   "metadata": {},
   "outputs": [],
   "source": [
    "sa.polarity_scores(\"this is the worst thing ever\")"
   ]
  },
  {
   "cell_type": "code",
   "execution_count": null,
   "id": "24cdd923",
   "metadata": {},
   "outputs": [],
   "source": [
    "sa.polarity_scores(example)"
   ]
  },
  {
   "cell_type": "code",
   "execution_count": null,
   "id": "e29aa396",
   "metadata": {},
   "outputs": [],
   "source": [
    "res={}\n",
    "for i ,row in tqdm(df.iterrows(),total=len(df)):\n",
    "    text=row[\"Review Title\"]\n",
    "    myid=row[\"id\"]\n",
    "    res[myid]=sa.polarity_scores(text)"
   ]
  },
  {
   "cell_type": "code",
   "execution_count": null,
   "id": "930a190e",
   "metadata": {},
   "outputs": [],
   "source": [
    "raghav=pd.DataFrame(res).T\n",
    "raghav=raghav.reset_index().rename(columns={\"index\":\"id\"})\n",
    "raghav=raghav.merge(df,how='left')"
   ]
  },
  {
   "cell_type": "code",
   "execution_count": null,
   "id": "fea7c593",
   "metadata": {},
   "outputs": [],
   "source": [
    "raghav"
   ]
  },
  {
   "cell_type": "code",
   "execution_count": null,
   "id": "300ed256",
   "metadata": {},
   "outputs": [],
   "source": [
    "import seaborn as sns\n",
    "sns.barplot(data=vader,x='Score',y='compound')\n",
    "plt.show()"
   ]
  },
  {
   "cell_type": "code",
   "execution_count": null,
   "id": "74818faa",
   "metadata": {},
   "outputs": [],
   "source": [
    "ax = sns.barplot(data=vader, x='Review Rating', y='neu')\n",
    "ax.set_title('Compund Score by Amazon Star Review')\n",
    "plt.show()"
   ]
  },
  {
   "cell_type": "code",
   "execution_count": null,
   "id": "930769ec",
   "metadata": {},
   "outputs": [],
   "source": [
    "fig,axs=plt.subplots(1,3,figsize=(15,5))\n",
    "sns.barplot(data=vader,x='Review Rating',y='pos',ax=axs[0])\n",
    "sns.barplot(data=vader,x='Review Rating',y='neg',ax=axs[1])\n",
    "sns.barplot(data=vader,x='Review Rating',y='neu',ax=axs[2])\n",
    "axs[0].set_title(\"Positive\")\n",
    "axs[1].set_title(\"Negetive\")\n",
    "axs[2].set_title(\"Neutral\")\n",
    "plt.show()"
   ]
  },
  {
   "cell_type": "code",
   "execution_count": null,
   "id": "bf97c7d8",
   "metadata": {},
   "outputs": [],
   "source": [
    "from transformers import AutoTokenizer\n",
    "from transformers import AutoModelForSequenceClassification\n",
    "from scipy.special import softmax"
   ]
  },
  {
   "cell_type": "code",
   "execution_count": null,
   "id": "c2074982",
   "metadata": {},
   "outputs": [],
   "source": [
    "MODEL = f\"cardiffnlp/twitter-roberta-base-sentiment\"\n",
    "tokenizer = AutoTokenizer.from_pretrained(MODEL)\n",
    "model = AutoModelForSequenceClassification.from_pretrained(MODEL)"
   ]
  },
  {
   "cell_type": "code",
   "execution_count": null,
   "id": "fe92c587",
   "metadata": {
    "scrolled": true
   },
   "outputs": [],
   "source": [
    "from transformers import AutoTokenizer, AutoModelForSequenceClassification\n",
    "\n",
    "MODEL = \"cardiffnlp/twitter-roberta-base-sentiment\"\n",
    "tokenizer = AutoTokenizer.from_pretrained(MODEL)\n",
    "model = AutoModelForSequenceClassification.from_pretrained(MODEL)\n"
   ]
  },
  {
   "cell_type": "code",
   "execution_count": null,
   "id": "3d74445b",
   "metadata": {},
   "outputs": [],
   "source": [
    "encoded_text=tokenizer(example,return_tensors='pt')\n",
    "output=model(**encoded_text)\n",
    "output"
   ]
  },
  {
   "cell_type": "code",
   "execution_count": null,
   "id": "8db4dcea",
   "metadata": {},
   "outputs": [],
   "source": []
  }
 ],
 "metadata": {
  "kernelspec": {
   "display_name": "Python 3 (ipykernel)",
   "language": "python",
   "name": "python3"
  },
  "language_info": {
   "codemirror_mode": {
    "name": "ipython",
    "version": 3
   },
   "file_extension": ".py",
   "mimetype": "text/x-python",
   "name": "python",
   "nbconvert_exporter": "python",
   "pygments_lexer": "ipython3",
   "version": "3.11.7"
  }
 },
 "nbformat": 4,
 "nbformat_minor": 5
}
